{
  "nbformat": 4,
  "nbformat_minor": 0,
  "metadata": {
    "colab": {
      "name": "LP em Python.ipynb",
      "provenance": [],
      "authorship_tag": "ABX9TyPkGNEgi3G7XhaS83oJxR2I",
      "include_colab_link": true
    },
    "kernelspec": {
      "name": "python3",
      "display_name": "Python 3"
    },
    "language_info": {
      "name": "python"
    }
  },
  "cells": [
    {
      "cell_type": "markdown",
      "metadata": {
        "id": "view-in-github",
        "colab_type": "text"
      },
      "source": [
        "<a href=\"https://colab.research.google.com/github/snikt11/LP_Python/blob/main/LP_em_Python.ipynb\" target=\"_parent\"><img src=\"https://colab.research.google.com/assets/colab-badge.svg\" alt=\"Open In Colab\"/></a>"
      ]
    },
    {
      "cell_type": "code",
      "execution_count": null,
      "metadata": {
        "id": "V3hiO4ScmGWJ"
      },
      "outputs": [],
      "source": [
        "a = 2\n",
        "b = 0.5\n",
        "c = 1\n",
        "\n",
        "x = input(\"Digite o valor de X: \")\n",
        "\n",
        "x = float(x)\n",
        "\n",
        "y = a*x**2+b*x+c\n",
        "\n",
        "print(f\"O resultado de y para x = {x} é {y}\")\n",
        "\n",
        "\n"
      ]
    }
  ]
}